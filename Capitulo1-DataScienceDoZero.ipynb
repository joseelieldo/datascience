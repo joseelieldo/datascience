{
  "metadata": {
    "language_info": {
      "codemirror_mode": {
        "name": "python",
        "version": 3
      },
      "file_extension": ".py",
      "mimetype": "text/x-python",
      "name": "python",
      "nbconvert_exporter": "python",
      "pygments_lexer": "ipython3",
      "version": "3.8"
    },
    "kernelspec": {
      "name": "python",
      "display_name": "Pyolite",
      "language": "python"
    }
  },
  "nbformat_minor": 4,
  "nbformat": 4,
  "cells": [
    {
      "cell_type": "code",
      "source": "from __future__ import division\nfrom collections import Counter\nfrom collections import defaultdict",
      "metadata": {
        "trusted": true
      },
      "execution_count": 1,
      "outputs": []
    },
    {
      "cell_type": "code",
      "source": "#Definindo Usuários\nusers = [\n    { \"id\": 0, \"name\": \"Hero\" },\n    { \"id\": 1, \"name\": \"Dunn\" },\n    { \"id\": 2, \"name\": \"Sue\" },\n    { \"id\": 3, \"name\": \"Chi\" },\n    { \"id\": 4, \"name\": \"Thor\" },\n    { \"id\": 5, \"name\": \"Clive\" },\n    { \"id\": 6, \"name\": \"Hicks\" },\n    { \"id\": 7, \"name\": \"Devin\" },\n    { \"id\": 8, \"name\": \"Kate\" },\n    { \"id\": 9, \"name\": \"Klein\" }\n]",
      "metadata": {
        "trusted": true
      },
      "execution_count": 2,
      "outputs": []
    },
    {
      "cell_type": "code",
      "source": "#Definindo Amigos\nfriendships = [(0, 1), (0, 2), (1, 2), (1, 3), (2, 3), (3, 4),(4, 5), (5, 6), (5, 7), (6, 8), (7, 8), (8, 9)]",
      "metadata": {
        "trusted": true
      },
      "execution_count": 3,
      "outputs": []
    },
    {
      "cell_type": "code",
      "source": "# adicionar uma lista de amigos para cada usuário\nfor user in users:\n    user[\"friends\"] = []",
      "metadata": {
        "trusted": true
      },
      "execution_count": 4,
      "outputs": []
    },
    {
      "cell_type": "code",
      "source": "# popular a lista com os dados de friendships\nfor i, j in friendships:\n    # isso funciona porque users[i] é o usuário cuja id é i\n    users[i][\"friends\"].append(users[j]) # adiciona i como um amigo de j\n    users[j][\"friends\"].append(users[i]) # adiciona j como um amigo de i",
      "metadata": {
        "trusted": true
      },
      "execution_count": 5,
      "outputs": []
    },
    {
      "cell_type": "code",
      "source": "# encontramos um número total de conexões, resumindo os tamanhos de todas as listas de friends:\ndef number_of_friends(user):\n    \"\"\"quantos amigos o usuário tem?\"\"\"\n    return len(user[\"friends\"]) # tamanho da lista friend_ids\n\ntotal_connections = sum(number_of_friends(user) for user in users) #24",
      "metadata": {
        "trusted": true
      },
      "execution_count": 6,
      "outputs": []
    },
    {
      "cell_type": "code",
      "source": "#número médio de conexões\nnum_users = len(users) # tamanho da lista de usuários\n\navg_connections = total_connections / num_users # 2,4",
      "metadata": {
        "trusted": true
      },
      "execution_count": 7,
      "outputs": []
    },
    {
      "cell_type": "code",
      "source": "# encontrar as pessoas mais conectadas\n\n# cria uma lista (user_id, number_of_friends)\nnum_friends_by_id = [(user[\"id\"], number_of_friends(user)) for user in users]\n\n# ordená-los de “muito amigos” para “menos amigos”\nsorted(num_friends_by_id,\n       key= lambda userid_numfriends: userid_numfriends[1],\n       reverse=True)\n\n# cada par é (user_id, num_friends)\n# [(1, 3), (2, 3), (3, 3), (5, 3), (8, 3),\n# (0, 2), (4, 2), (6, 2), (7, 2), (9, 1)]",
      "metadata": {
        "trusted": true
      },
      "execution_count": 8,
      "outputs": [
        {
          "execution_count": 8,
          "output_type": "execute_result",
          "data": {
            "text/plain": "[(1, 3),\n (2, 3),\n (3, 3),\n (5, 3),\n (8, 3),\n (0, 2),\n (4, 2),\n (6, 2),\n (7, 2),\n (9, 1)]"
          },
          "metadata": {}
        }
      ]
    },
    {
      "cell_type": "code",
      "source": "#sugerir um usuário que possa conhecer amigos de amigos\n\ndef friends_of_friend_ids_bad(user):\n    # “foaf” é abreviação de “friend of a friend”\n    return [foaf[\"id\"] \n            for friend in user[\"friends\"] # para cada amigo de usuário\n            for foaf in friend[\"friends\"]] # pega cada _their_friends\n\n#print([friend[\"id\"] for friend in users[0][\"friends\"]])\n#print([friend[\"id\"] for friend in users[1][\"friends\"]])\n#print([friend[\"id\"] for friend in users[2][\"friends\"]])",
      "metadata": {
        "trusted": true
      },
      "execution_count": 9,
      "outputs": []
    },
    {
      "cell_type": "code",
      "source": "#excluir as pessoas que já são conhecidas do usuário\n\ndef not_the_same(user, other_user):\n    \"\"\"dois usuários não são os mesmos se possuem ids diferentes\"\"\"\n    return user[\"id\"] != other_user[\"id\"]\n\n\ndef not_friends(user, other_user):\n    \"\"\"other_user não é um amigo se não está em user[“friends”];\n    isso é, se é not_the_same com todas as pessoas em user[“friends”]\"\"\"\n    return all(not_the_same(friend, other_user)\n               for friend in user[\"friends\"])\n\ndef friends_of_friend_ids(user):\n    return Counter(foaf[\"id\"]\n                   for friend in user[\"friends\"] # para cada um dos meus amigos\n                   for foaf in friend[\"friends\"] # que contam *their* amigos\n                   if not_the_same(user, foaf) # que não sejam eu\n                   and not_friends(user, foaf)) # e que não são meus amigos",
      "metadata": {
        "trusted": true
      },
      "execution_count": 10,
      "outputs": []
    },
    {
      "cell_type": "code",
      "source": "#print (friends_of_friend_ids(users[3]))\n#Counter({0: 2, 5: 1})\n\n# Isso diz sobre Chi (id 3) que ela possui dois amigos em comum com Hero (id 0) mas somente um amigo em comum com Clive (id 5)",
      "metadata": {
        "trusted": true
      },
      "execution_count": null,
      "outputs": []
    },
    {
      "cell_type": "code",
      "source": "# encontrar usuários com interesses similares\n\n# lista de pares (user_id, interest)\n\ninterests = [\n    (0, \"Hadoop\"), (0, \"Big Data\"), (0, \"HBase\"), (0, \"Java\"),\n    (0, \"Spark\"), (0, \"Storm\"), (0, \"Cassandra\"),\n    (1, \"NoSQL\"), (1, \"MongoDB\"), (1, \"Cassandra\"), (1, \"HBase\"),\n    (1, \"Postgres\"), (2, \"Python\"), (2, \"scikit-learn\"), (2, \"scipy\"),\n    (2, \"numpy\"), (2, \"statsmodels\"), (2, \"pandas\"), (3, \"R\"), (3, \"Python\"),\n    (3, \"statistics\"), (3, \"regression\"), (3, \"probability\"),\n    (4, \"machine learning\"), (4, \"regression\"), (4, \"decision trees\"),\n    (4, \"libsvm\"), (5, \"Python\"), (5, \"R\"), (5, \"Java\"), (5, \"C++\"),\n    (5, \"Haskell\"), (5, \"programming languages\"), (6, \"statistics\"),\n    (6, \"probability\"), (6, \"mathematics\"), (6, \"theory\"),\n    (7, \"machine learning\"), (7, \"scikit-learn\"), (7, \"Mahout\"),\n    (7, \"neural networks\"), (8, \"neural networks\"), (8, \"deep learning\"),\n    (8, \"Big Data\"), (8, \"artificial intelligence\"), (9, \"Hadoop\"),\n    (9, \"Java\"), (9, \"MapReduce\"), (9, \"Big Data\")\n]",
      "metadata": {
        "trusted": true
      },
      "execution_count": 11,
      "outputs": []
    },
    {
      "cell_type": "code",
      "source": "# função que encontre usuários com o mesmo interesse\n\ndef data_scientists_who_like(target_interest):\n    return [user_id\n            for user_id, user_interest in interests\n            if user_interest == target_interest]",
      "metadata": {
        "trusted": true
      },
      "execution_count": 12,
      "outputs": []
    },
    {
      "cell_type": "code",
      "source": "# Para melhorar a performance é melhor:\n\n### 1 - construir um índice de interesses para usuários\n\n# as chaves são interesses, os valores são listas de user_ids com interests\nuser_ids_by_interest = defaultdict(list)\n\nfor user_id, interest in interests:\n    user_ids_by_interest[interest].append(user_id)\n    \n### 2 - índice de usuários para interesses\n\n# as chaves são user_ids, os valores são as listas de interests para aquele user_id\ninterests_by_user_id = defaultdict(list)\n\nfor user_id, interest in interests:\n    interests_by_user_id[user_id].append(interest)",
      "metadata": {
        "trusted": true
      },
      "execution_count": 13,
      "outputs": []
    },
    {
      "cell_type": "code",
      "source": "# Agora fica fácil descobrir quem possui os maiores interesses em comum com um certo usuário:\n# * Itera sobre os interesses do usuário.\n# * Para cada interesse, itera sobre os outros usuários com aquele interesse.\n# * Mantém a contagem de quantas vezes vemos cada outro usuário.\n",
      "metadata": {
        "trusted": true
      },
      "execution_count": null,
      "outputs": []
    },
    {
      "cell_type": "code",
      "source": "def most_common_interests_with(user):\n    return Counter(interested_user_id\n                   for interest in interests_by_user_id[user[\"id\"]]\n                   for interested_user_id in user_ids_by_interest[interest]\n                   if interested_user_id != user[\"id\"])",
      "metadata": {
        "trusted": true
      },
      "execution_count": 14,
      "outputs": []
    },
    {
      "cell_type": "code",
      "source": "#Salários e Experiência\n\nsalaries_and_tenures = [(83000, 8.7), (88000, 8.1),\n                        (48000, 0.7), (76000, 6),\n                        (69000, 6.5), (76000, 7.5),\n                        (60000, 2.5), (83000, 10),\n                        (48000, 1.9), (63000, 4.2)]",
      "metadata": {
        "trusted": true
      },
      "execution_count": 15,
      "outputs": []
    },
    {
      "cell_type": "code",
      "source": "### analisar a média salarial para cada ano\n# as chaves são os anos, os valores são as listas dos salários para cada ano\nsalary_by_tenure = defaultdict(list)\n\nfor salary, tenure in salaries_and_tenures:\n    salary_by_tenure[tenure].append(salary)\n\n# as chaves são os anos, cada valor é a média salarial para aquele ano\naverage_salary_by_tenure = {tenure : sum(salaries) / len(salaries)\n                            for tenure, salaries in salary_by_tenure.items()\n                           }",
      "metadata": {
        "trusted": true
      },
      "execution_count": 16,
      "outputs": []
    },
    {
      "cell_type": "code",
      "source": "#já que nenhum dos usuários possui o mesmo caso, Talvez fosse mais proveitoso agrupar os casos\n\ndef tenure_bucket(tenure):\n    if tenure < 2:\n        return \"less than two\"\n    elif tenure < 5:\n        return \"between two and five\"\n    else:\n        return \"more than five\"\n    \n#o grupo junta os salários correspondentes para cada agrupamento\n# as chaves são agrupamentos dos casos, os valores são as listas\n# dos salários para aquele agrupamento\nsalary_by_tenure_bucket = defaultdict(list)\n\nfor salary, tenure in salaries_and_tenures:\n    bucket = tenure_bucket(tenure)\n    salary_by_tenure_bucket[bucket].append(salary)\n    \n# as chaves são agrupamentos dos casos, os valores são\n# a média salarial para aquele agrupamento\naverage_salary_by_bucket = {\n    tenure_bucket : sum(salaries) / len(salaries)\n    for tenure_bucket, salaries in salary_by_tenure_bucket.items()\n}",
      "metadata": {
        "trusted": true
      },
      "execution_count": 17,
      "outputs": []
    },
    {
      "cell_type": "code",
      "source": "#Contas Pagas\n# criar um modelo prever “paid” para os usuários com poucos e muitos anos de experiência,\n#e “unpaid” para os usuários com quantidade mediana de experiência\n\ndef predict_paid_or_unpaid(years_experience):\n    if years_experience < 3.0:\n        return \"paid\"\n    elif years_experience < 8.5:\n        return \"unpaid\"\n    else:\n        return \"paid\"",
      "metadata": {
        "trusted": true
      },
      "execution_count": 20,
      "outputs": []
    },
    {
      "cell_type": "code",
      "source": "interests = [\n    (0, \"Hadoop\"), (0, \"Big Data\"), (0, \"HBase\"), (0, \"Java\"),\n    (0, \"Spark\"), (0, \"Storm\"), (0, \"Cassandra\"),\n    (1, \"NoSQL\"), (1, \"MongoDB\"), (1, \"Cassandra\"), (1, \"HBase\"),\n    (1, \"Postgres\"), (2, \"Python\"), (2, \"scikit-learn\"), (2, \"scipy\"),\n    (2, \"numpy\"), (2, \"statsmodels\"), (2, \"pandas\"), (3, \"R\"), (3, \"Python\"),\n    (3, \"statistics\"), (3, \"regression\"), (3, \"probability\"),\n    (4, \"machine learning\"), (4, \"regression\"), (4, \"decision trees\"),\n    (4, \"libsvm\"), (5, \"Python\"), (5, \"R\"), (5, \"Java\"), (5, \"C++\"),\n    (5, \"Haskell\"), (5, \"programming languages\"), (6, \"statistics\"),\n    (6, \"probability\"), (6, \"mathematics\"), (6, \"theory\"),\n    (7, \"machine learning\"), (7, \"scikit-learn\"), (7, \"Mahout\"),\n    (7, \"neural networks\"), (8, \"neural networks\"), (8, \"deep learning\"),\n    (8, \"Big Data\"), (8, \"artificial intelligence\"), (9, \"Hadoop\"),\n    (9, \"Java\"), (9, \"MapReduce\"), (9, \"Big Data\")\n]",
      "metadata": {
        "trusted": true
      },
      "execution_count": 19,
      "outputs": []
    },
    {
      "cell_type": "code",
      "source": "# Uma simples forma (e também fascinante) de encontrar os interesses mais\n# populares é fazer uma simples contagem de palavras:\n# 1 - Coloque cada um em letras minúsculas (já que usuários diferentes podem\n#      ou não escrever seus interesses em letras maiúsculas).\n# 2 - Divida em palavras.\n# 3 - Conte os resultados.",
      "metadata": {
        "trusted": true
      },
      "execution_count": null,
      "outputs": []
    },
    {
      "cell_type": "code",
      "source": "words_and_counts = Counter(word for user, interest in interests\n                           for word in interest.lower().split())\n",
      "metadata": {
        "trusted": true
      },
      "execution_count": null,
      "outputs": []
    },
    {
      "cell_type": "code",
      "source": "# listar as palavras que ocorrem mais de uma vez\nfor word, count in words_and_counts.most_common():\n    if count > 1:\n        print(word, count)",
      "metadata": {
        "trusted": true
      },
      "execution_count": null,
      "outputs": []
    },
    {
      "cell_type": "code",
      "source": "",
      "metadata": {},
      "execution_count": null,
      "outputs": []
    }
  ]
}